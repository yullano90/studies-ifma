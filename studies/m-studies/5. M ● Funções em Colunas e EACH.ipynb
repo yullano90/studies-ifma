{
 "cells": [
  {
   "cell_type": "markdown",
   "id": "f675ae7d",
   "metadata": {},
   "source": [
    "## @yullano90 | M ● Funções em Colunas e EACH"
   ]
  },
  {
   "cell_type": "code",
   "execution_count": null,
   "id": "767376c3",
   "metadata": {},
   "outputs": [],
   "source": [
    "# Primeiramente carregue a consulta a seguir gompáde!!!\n",
    "# Aproveita porque #VamosNosDivertir ainnnnn 😍:\n",
    "\n",
    "--------------------------------------------------------------------------------\n",
    "let\n",
    "    Source_Json = Table.FromRows(\n",
    "        Json.Document(\n",
    "            Binary.Decompress(\n",
    "                Binary.FromText(\n",
    "                    \"i45WiizNyUnMy1fSUTIHYlMgtjBVitWJVnJPTCrKTM0BClgCsaEBiGE\n",
    "                    AlnFJLMuEC+mAtFiaQiXyIDrAUmDCAqLFNSczsRjINYLaYQQUjgUA\",\n",
    "                    BinaryEncoding.Base64), Compression.Deflate)),\n",
    "                    let _t = ((type nullable text) meta [Serialized.Text = true])\n",
    "                    in type table [Nome = _t, Nota1 = _t, Nota2 = _t, Frequencia = _t]),\n",
    "\n",
    "    //Alteração Automática de tipos de dados:                \n",
    "    Alter_Type = Table.TransformColumnTypes(Source_Json ,{\n",
    "        {\"Nome\", type text}, {\"Nota1\", Int64.Type}, {\"Nota2\", type number}, {\"Frequencia\", Int64.Type}}\n",
    "        )\n",
    "in\n",
    "    Alter_Type\n",
    "\n",
    "--------------------------------------------------------------------------------"
   ]
  },
  {
   "cell_type": "code",
   "execution_count": null,
   "id": "abcafe7c",
   "metadata": {},
   "outputs": [],
   "source": [
    "#Avançando um pouco mais, vamos seguir os passos abaixo:\n",
    "\n",
    "    => 1. Nomeie a consulta como \"Alunos\".\n",
    "    => 2. Coloque uma vírgula após a ultima instrução.\n",
    "            (sempre a penultima instrução precisa ser encerrada).\n",
    "        \n",
    "    => 3. Crie uma função para calcular a média das notas.\n",
    "    => 4. Passe como parâmetro(8,3) o resultado é = 5,5.\n",
    "    => 5. Abaixo uma sugestão de protótipo da função.\n",
    "--------------------------------------------------------------------------------\n",
    "\n",
    "let\n",
    "    Source_Json = Table.FromRows(\n",
    "        Json.Document(\n",
    "            Binary.Decompress(\n",
    "                Binary.FromText(\n",
    "                    \"i45WiizNyUnMy1fSUTIHYlMgtjBVitWJVnJPTCrKTM0BClgCsaEBiGE\n",
    "                    AlnFJLMuEC+mAtFiaQiXyIDrAUmDCAqLFNSczsRjINYLaYQQUjgUA\",\n",
    "                    BinaryEncoding.Base64), Compression.Deflate)),\n",
    "                    let _t = ((type nullable text) meta [Serialized.Text = true])\n",
    "                    in type table [Nome = _t, Nota1 = _t, Nota2 = _t, Frequencia = _t]),\n",
    "\n",
    "    //Alteração Automática de tipos de dados:                \n",
    "    Alter_Type = Table.TransformColumnTypes(Source_Json ,{\n",
    "        {\"Nome\", type text}, {\"Nota1\", Int64.Type}, {\"Nota2\", type number}, {\"Frequencia\", Int64.Type}}\n",
    "        ),\n",
    "    \n",
    "    \n",
    "        //Protótipo da Função mediaNotas():\n",
    "        Func_Mean = (nota1 as number, nota2 as number) => ((nota1 + nota2)/2)\n",
    "in\n",
    "    Func_Mean\n",
    "\n",
    "\n",
    "--------------------------------------------------------------------------------\n",
    "    \n"
   ]
  },
  {
   "cell_type": "code",
   "execution_count": null,
   "id": "eca78616",
   "metadata": {},
   "outputs": [],
   "source": [
    "# Agora, vamos para um segundo nível gompádery ainnnnnnn 😍, vamos passar colunas como parâmetros fichãã?\n",
    "# Crie uma nova step, adicionando uma coluna com a função Table.AddColumn( StepAnterior, funçãoDesejada).\n",
    "\n",
    "---------------------------------------------------------------------------------------------------------------\n",
    "let\n",
    "    Source_Json = Table.FromRows(\n",
    "        Json.Document(\n",
    "            Binary.Decompress(\n",
    "                Binary.FromText(\n",
    "                    \"i45WiizNyUnMy1fSUTIHYlMgtjBVitWJVnJPTCrKTM0BClgCsaEBiGE\n",
    "                    AlnFJLMuEC+mAtFiaQiXyIDrAUmDCAqLFNSczsRjINYLaYQQUjgUA\",\n",
    "                    BinaryEncoding.Base64), Compression.Deflate)),\n",
    "                    let _t = ((type nullable text) meta [Serialized.Text = true])\n",
    "                    in type table [Nome = _t, Nota1 = _t, Nota2 = _t, Frequencia = _t]),\n",
    "\n",
    "    //Alteração Automática de tipos de dados:                \n",
    "    Alter_Type = Table.TransformColumnTypes(Source_Json ,{\n",
    "        {\"Nome\", type text}, {\"Nota1\", Int64.Type}, {\"Nota2\", type number}, {\"Frequencia\", Int64.Type}}\n",
    "        ),\n",
    "\n",
    "    //Protótipo da Função mediaNotas():\n",
    "    Func_Mean = (nota1 as number , nota2 as number ) as number => ((nota1 + nota2)/2),\n",
    "\n",
    "    //Adicionado Coluna invocando a Função mediaNotas() USANDO A FUNÇAO \"EACH\":\n",
    "    Add_C_Mean = Table.AddColumn(Alter_Type, \"Média\", each Func_Mean([Nota1],[Nota2]))\n",
    "    \n",
    "in\n",
    "    Add_C_Mean\n",
    "\n",
    "---------------------------------------------------------------------------------------------------------------"
   ]
  },
  {
   "cell_type": "code",
   "execution_count": null,
   "id": "acba5070",
   "metadata": {},
   "outputs": [],
   "source": [
    "# Avançando para o próximo nível, bora adicionar uma nova Step? Só que booleanãã? borãã?\n",
    "# Os critérios são média e frequência, vamos usar o mesma sintaxe anterior, porém outra função:\n",
    "\n"
   ]
  }
 ],
 "metadata": {
  "kernelspec": {
   "display_name": "Python 3",
   "language": "python",
   "name": "python3"
  },
  "language_info": {
   "codemirror_mode": {
    "name": "ipython",
    "version": 3
   },
   "file_extension": ".py",
   "mimetype": "text/x-python",
   "name": "python",
   "nbconvert_exporter": "python",
   "pygments_lexer": "ipython3",
   "version": "3.8.8"
  }
 },
 "nbformat": 4,
 "nbformat_minor": 5
}
