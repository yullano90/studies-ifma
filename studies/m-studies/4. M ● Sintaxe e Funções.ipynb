{
 "cells": [
  {
   "cell_type": "markdown",
   "id": "effb38a7",
   "metadata": {},
   "source": [
    "## @yullano90 | M ● Sintaxe e Funções"
   ]
  },
  {
   "cell_type": "code",
   "execution_count": null,
   "id": "a49025c0",
   "metadata": {},
   "outputs": [],
   "source": [
    "=> Linguagem Funcional e Case Sensitive.\n",
    "=> Importante aprender M pra não ficar refém da interface.\n",
    "=> Utilização de lindas funções nativas ou criadas.\n",
    "=> Classes de funções.\n"
   ]
  },
  {
   "cell_type": "code",
   "execution_count": null,
   "id": "e707ab2e",
   "metadata": {},
   "outputs": [],
   "source": [
    "=> Bloco (let) onde ocorre as definições das funções e variáveis;\n",
    "=> Bloco (in) que é a saída da sua consulta;\n",
    "=> O corpo da função fica após o símbolo =>\n",
    "=> Declaração de tipos de dados dos parâmetros e de retorno da função são opcionais (declaração explícita X implícita);\n",
    "=> Parâmetros e tipos de retorno implícito serão do tipo (any), sendo que todos os tipos de dados em (M) derivam do tipo (any).\n"
   ]
  },
  {
   "cell_type": "code",
   "execution_count": null,
   "id": "ad21b96d",
   "metadata": {},
   "outputs": [],
   "source": [
    "# Notação Geral:\n",
    "\n",
    "------------------------------------------------------------------------\n",
    "'''    let\n",
    "        Variável = Parâmetros => Corpo da Função\n",
    "    in \n",
    "        Variável\n",
    "'''    \n",
    "\n",
    "\n",
    "------------------------------------------------------------------------\n",
    "'''//Função \"produtoAB\" (para testar na interface gerada):\n",
    "\n",
    "    let\n",
    "        produtoAB = (a as number, b as number) as number => a * b\n",
    "    in\n",
    "        produtoAB\n",
    "'''  \n",
    "\n",
    "------------------------------------------------------------------------\n",
    "//Nesse caso, passando o argumento explicitamente:\n",
    "'''\n",
    "    let \n",
    "         Multiplicacao = (x as number, y as number) as number => x * y,\n",
    "         CalcularMultiplicacao = Multiplicacao(3,5) \n",
    "    in \n",
    "         CalcularMultiplicacao\n",
    "'''\n",
    "------------------------------------------------------------------------"
   ]
  },
  {
   "cell_type": "markdown",
   "id": "6d0da087",
   "metadata": {},
   "source": [
    "## Protótipo com Parâmetros explícitos"
   ]
  },
  {
   "cell_type": "code",
   "execution_count": null,
   "id": "5e9be121",
   "metadata": {},
   "outputs": [],
   "source": [
    "------------------------------------------------------------------------\n",
    "'''\n",
    "    let \n",
    "        Multiplicacao = (x as number, y as number) as number => x * y,\n",
    "        CalcularMultiplicacao = Multiplicacao(3,5) \n",
    "    in \n",
    "         CalcularMultiplicacao\n",
    "'''\n",
    "------------------------------------------------------------------------    "
   ]
  },
  {
   "cell_type": "markdown",
   "id": "043b14e8",
   "metadata": {},
   "source": [
    "## Protótipo com  Parâmetros implícitos"
   ]
  },
  {
   "cell_type": "code",
   "execution_count": null,
   "id": "cb857a4c",
   "metadata": {},
   "outputs": [],
   "source": [
    "------------------------------------------------------------------------\n",
    "'''\n",
    "    let \n",
    "        Multiplicacao = (x, y) => x * y,\n",
    "        CalcularMultiplicacao = Multiplicacao(3,5) \n",
    "    in \n",
    "        CalcularMultiplicacao \n",
    "'''\n",
    "------------------------------------------------------------------------"
   ]
  },
  {
   "cell_type": "markdown",
   "id": "9851a0b9",
   "metadata": {},
   "source": [
    "## List"
   ]
  },
  {
   "cell_type": "code",
   "execution_count": null,
   "id": "65be9f15",
   "metadata": {},
   "outputs": [],
   "source": [
    "=> Sequência de valores;\n",
    "=> Definida com utilização de chaves;\n",
    "=> Zero-based index - o primeiro elemento da lista é acessado pelo índice 0;\n",
    "=> Uma lista pode ter valores de diferentes tipos;\n",
    "\n",
    "{ 1, 15, 60, true, {20,30,40} }\n",
    "\n"
   ]
  },
  {
   "cell_type": "markdown",
   "id": "f17bd68e",
   "metadata": {},
   "source": [
    "## Record"
   ]
  },
  {
   "cell_type": "code",
   "execution_count": null,
   "id": "959ac01d",
   "metadata": {},
   "outputs": [],
   "source": [
    "=> Conjunto de campos, definidos por um par chave-valor;\n",
    "=> Definido com utilização de colchetes;\n",
    "'''\n",
    "    [\n",
    "      Nome = “Yullano”,\n",
    "      Curso = “Linguagem M”,\n",
    "      Nota = 9.3\n",
    "    ]\n",
    "'''"
   ]
  },
  {
   "cell_type": "markdown",
   "id": "7668714a",
   "metadata": {},
   "source": [
    "## Table"
   ]
  },
  {
   "cell_type": "code",
   "execution_count": null,
   "id": "a54bd828",
   "metadata": {},
   "outputs": [],
   "source": [
    "=> Conjunto de valores organizados em linhas e colunas\n",
    "\n",
    "'''\n",
    "#table( \n",
    "        {“Código”,”Nome”,”Nota”},\n",
    "        {\n",
    "          {1, “Yullano”, 8},\n",
    "          {2, “Gabriel”, 9}\n",
    "          {3, “Davi”, 10}\n",
    "        }\n",
    ")\n",
    "\n",
    "'''"
   ]
  },
  {
   "cell_type": "code",
   "execution_count": null,
   "id": "4b952e2e",
   "metadata": {},
   "outputs": [],
   "source": [
    "# Agora, falando sério, vamos carregar a consulta abaixo e trabalhar com funções:\n",
    "\n"
   ]
  }
 ],
 "metadata": {
  "kernelspec": {
   "display_name": "Python 3",
   "language": "python",
   "name": "python3"
  },
  "language_info": {
   "codemirror_mode": {
    "name": "ipython",
    "version": 3
   },
   "file_extension": ".py",
   "mimetype": "text/x-python",
   "name": "python",
   "nbconvert_exporter": "python",
   "pygments_lexer": "ipython3",
   "version": "3.8.8"
  }
 },
 "nbformat": 4,
 "nbformat_minor": 5
}
