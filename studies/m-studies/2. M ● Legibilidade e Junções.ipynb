{
 "cells": [
  {
   "cell_type": "markdown",
   "id": "37e51664",
   "metadata": {},
   "source": [
    "## @yullano90 | M ● Legibilidade e Junções"
   ]
  },
  {
   "cell_type": "code",
   "execution_count": null,
   "id": "2d904b87",
   "metadata": {},
   "outputs": [],
   "source": [
    "#Vamos falar sobre legibilidade, Edição de código M e Junções?\n",
    "\n",
    "=> Primeiramente, carregue as consultas abaixo e faça as transformações necessárias.\n",
    "=> Em seguida, crie um Grupo com o nome \"JOINS\" e as coloque dentro.\n",
    "    \n",
    "    "
   ]
  },
  {
   "cell_type": "code",
   "execution_count": null,
   "id": "0d87f17e",
   "metadata": {},
   "outputs": [],
   "source": [
    "#JSON da tabela Cursos:\n",
    "\n",
    "let\n",
    "    Json_Table_Cursos = Table.FromRows(Json.Document(Binary.Decompress(Binary.FromText(\n",
    "    \"bVHBSgMxEP2VsOdcdpNsvZaWFkVFqgiy9DDuDt1oNiPZpFB/q5/QHzOJVtwiBDJv5r03M0nTFEvwwB5bjbZFNm\n",
    "    +hw+FQ8OLnbHlTbNCAPx2dJtYhWwQ30jhlTNHidOz0jr6ZMXlPA/6CZzDk4n1tR++Cj3GSiJhZIn6wWwRntd2xl\n",
    "    gZ2A3uIBSEVr2cxeAnGgKWskBE/OHpDT2ylLZiIpar57CoGa3h1Gk0mVhHfQdtri/+6V0JyVaf+sNdZoZL1wfdk\n",
    "    2SrYDga0Pm8sVMlF8lvTe8jUpNv8ZWXn+WdwyC6bpgGlPBv0YLNDGVGa5KJVWQku1cXO02d+Ig9m8iP1ubr9Ag==\",\n",
    "    BinaryEncoding.Base64), Compression.Deflate)),\n",
    "                    \n",
    "    let _t = ((type nullable text) meta [Serialized.Text = true])\n",
    "    in type table [C1 = _t, C2 = _t, C3 = _t, C4 = _t])\n",
    "in\n",
    "    Json_Table_Cursos\n",
    "    \n",
    "       "
   ]
  },
  {
   "cell_type": "code",
   "execution_count": null,
   "id": "372ed809",
   "metadata": {},
   "outputs": [],
   "source": [
    "#JSON da tabela FJAVA:\n",
    "\n",
    "let\n",
    "    Json_Table_F_JAVA = Table.FromRows(Json.Document(Binary.Decompress(Binary.FromText(\n",
    "        \"jVLNSsQwEH6V0HPEJmn6c1wWhBW8iZeyh7iN0qXdlGS74PN4EBc8iU+QFzMzab1oF6GdfDP55j91nWwGf75a9\n",
    "        crqzpDVTjW6f0lo8se3pXVyY2yv/Jt/NeRWndQy8U4drf/YjZ1yZDCW9P7syMGQwba9bq0hTvfaHa0mjSY85Ww\n",
    "        51PLN2n827bMh69E6E4wPqjM2nHt1uGZVAE/6FEHoLwL1aGdLG8F+RDLE40HlIqMyD6BIgyhBVCDmn6UpckXAI\n",
    "        pM0L8BJgibxOgg58cADuFlAmcxpUUJI9IRUTGI+cACGFEiG3GVR0bSaeVLMPIbq5AZkhkZBs5/cHIQAkWEp0TY\n",
    "        VvTzKe3NUHewCZ+nAk2IHF8mbg9vZNryHLx3XPOiwddOYSOZTRTg3Uc41cWyNFXl8Kf69adU/ov2qZPsN\",\n",
    "        BinaryEncoding.Base64), Compression.Deflate)),\n",
    "\n",
    "        let _t = ((type nullable text) meta [Serialized.Text = true])\n",
    "        in type table [C1 = _t, C2 = _t, C3 = _t, C4 = _t, C5 = _t, C6 = _t, C7 = _t, C8 = _t])\n",
    "in\n",
    "    Json_Table_F_JAVA\n",
    "    \n",
    "    "
   ]
  },
  {
   "cell_type": "code",
   "execution_count": null,
   "id": "d0ae8913",
   "metadata": {},
   "outputs": [],
   "source": [
    "#Avançando, vamos estabelecer algumas diferenças entre \"Mesclar Consultas\" e \"Acrescentar Consultas\":\n",
    "            \n",
    "        *** Acrescentar: Gera um novo objeto no qual alterações na origem são refletidas.\n",
    "        *** Mesclar: Precisa de um elemento em comum para ligar os objetos.\n",
    "        *** Referência: Cria um atalho para o objeto de interesse:\n",
    "            (O código M começa a partir de então na referência).\n",
    "        *** Duplicação: Cria um objeto independente;\n",
    "\n"
   ]
  },
  {
   "cell_type": "code",
   "execution_count": null,
   "id": "2a024e11",
   "metadata": {},
   "outputs": [],
   "source": [
    "#Em seguida, vamos realizar junções e entender suas diferenças sensíveis:\n",
    "        \n",
    "        *** Realizar o Inner Join entre as tabelas \"Cursos\" e \"Formação Java\":\n",
    "            (O nova tabela deve conter 31 linhas e 07 colunas)\n",
    "        \n",
    "        *** Crie 02 blocos de código e identifique-os com comentários:\n",
    "            (Iniciar as práticas de legibilidade de Código e Documentação)\n",
    "            \n",
    "----------------------------------------------------------------------------        \n",
    "let\n",
    "        //Bloco Conexão com a Fonte:\n",
    "                #instruções x, y e z;\n",
    "\n",
    "        //Bloco de Etapas de ETL:\n",
    "            \n",
    "                #instruções x, y e z;\n",
    "in\n",
    "    #Instrução Z\n",
    "    \n",
    "----------------------------------------------------------------------------\n",
    "\n",
    "        *** Correspondência Difusa (Se atentar aos riscos desse recurso):\n",
    "            (Embora útil é extramente sensível)\n",
    "            \n"
   ]
  }
 ],
 "metadata": {
  "kernelspec": {
   "display_name": "Python 3",
   "language": "python",
   "name": "python3"
  },
  "language_info": {
   "codemirror_mode": {
    "name": "ipython",
    "version": 3
   },
   "file_extension": ".py",
   "mimetype": "text/x-python",
   "name": "python",
   "nbconvert_exporter": "python",
   "pygments_lexer": "ipython3",
   "version": "3.8.8"
  }
 },
 "nbformat": 4,
 "nbformat_minor": 5
}
