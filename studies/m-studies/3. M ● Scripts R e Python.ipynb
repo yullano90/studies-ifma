{
 "cells": [
  {
   "cell_type": "markdown",
   "id": "c397cd51",
   "metadata": {},
   "source": [
    "## @yullano90 | Scripts Python e R no Power Query"
   ]
  },
  {
   "cell_type": "markdown",
   "id": "547b5162",
   "metadata": {},
   "source": [
    "# TE LIGA:"
   ]
  },
  {
   "cell_type": "code",
   "execution_count": null,
   "id": "da33adf1",
   "metadata": {},
   "outputs": [],
   "source": [
    "# Tudo funcionará apenas se em sua máquina os interpretadores R e Python estiverem instalados belezãã?.\n",
    "# Na dúvida, vai lá no \"python.org\" /ou no \"cram.r-project.org\" (use o R 3.5 que é filé e sem bugs).\n",
    "# Sempre acompanhe os fóruns e a negada da comunidade pra saber a versão que roda fino. Fichãã?\n",
    "\n",
    "----------------------------------------------------------------------------------------------\n",
    "# Importante lembrar que o conceito de Portabilidade com R e Python não é suportado no Microsoft Excel.\n",
    "# Portanto, se você portar um código M no Excel, ao rodar \"Python.Execute() não vai rolar gompáde!\"\n",
    "# Pelo menos até o momento em que subo esse notebook não há suplementação para isso.\n",
    "----------------------------------------------------------------------------------------------"
   ]
  },
  {
   "cell_type": "code",
   "execution_count": null,
   "id": "ab4f7d4f",
   "metadata": {},
   "outputs": [],
   "source": [
    "#Carregue a consulta a seguir e nomeie como \"TableScripts\":\n",
    "\n",
    "------------------------------------------------------------------------------------------------------------\n",
    "let\n",
    "    TabelaScripts =\n",
    "        Table.FromRows(Json.Document(Binary.Decompress(Binary.FromText(\n",
    "        \"jVLNSsQwEH6V0HPEJmn6c1wWhBW8iZeyh7iN0qXdlGS74PN4EBc8iU+QFzMzab\n",
    "        1oF6GdfDP55j91nWwGf75a9crqzpDVTjW6f0lo8se3pXVyY2yv/Jt/NeRWndQy8\n",
    "        U4drf/YjZ1yZDCW9P7syMGQwba9bq0hTvfaHa0mjSY85Ww51PLN2n827bMh69E6\n",
    "        E4wPqjM2nHt1uGZVAE/6FEHoLwL1aGdLG8F+RDLE40HlIqMyD6BIgyhBVCDmn6U\n",
    "        pckXAIpM0L8BJgibxOgg58cADuFlAmcxpUUJI9IRUTGI+cACGFEiG3GVR0bSaeV\n",
    "        LMPIbq5AZkhkZBs5/cHIQAkWEp0TYVvTzKe3NUHewCZ+nAk2IHF8mbg9vZNryHL\n",
    "        x3XPOiwddOYSOZTRTg3Uc41cWyNFXl8Kf69adU/ov2qZPsN\",\n",
    "        BinaryEncoding.Base64), Compression.Deflate)),\n",
    "        let _t = ((type nullable text) meta [Serialized.Text = true])\n",
    "        in type table [\n",
    "                C1 = _t, C2 = _t, C3 = _t, C4 = _t, C5 = _t, C6 = _t, C7 = _t, C8 = _t\n",
    "                ]\n",
    "        ),\n",
    "\n",
    " //Etapas de Transformação dos dados:\n",
    "        RemoveUpLines = Table.Skip(TabelaScripts,4),\n",
    "        RemoveDownLines = Table.RemoveLastN(RemoveUpLines,4),\n",
    "        Headers = Table.PromoteHeaders(RemoveDownLines, [PromoteAllScalars=true]),\n",
    "        Unpivot = Table.Unpivot(Headers,\n",
    "        {\"jan/19\", \"fev/19\", \"mar/19\", \"abr/19\", \"mai/19\", \"jun/19\"}, \"Atributo\", \"Valor.1\"),\n",
    "        AlterType2 = Table.TransformColumnTypes(Unpivot,{{\"Atributo\", type date}}),\n",
    "        RenameC = Table.RenameColumns(AlterType2,{\n",
    "            {\"Valor.1\", \"Matrículas\"}, {\"Atributo\", \"Data\"}\n",
    "                }\n",
    "            )\n",
    "in\n",
    "    RenameC\n",
    "------------------------------------------------------------------------------------------------------------\n"
   ]
  },
  {
   "cell_type": "markdown",
   "id": "72cb3050",
   "metadata": {},
   "source": [
    "### Exemplo de Script Python"
   ]
  },
  {
   "cell_type": "code",
   "execution_count": null,
   "id": "87072362",
   "metadata": {},
   "outputs": [],
   "source": [
    "# No pandas temos os nossos queridos Dataframes, no Power Query temos o \"Dataset\".\n",
    "# Importante usar o método .reset_index() para resetar a indexação automática.\n",
    "\n",
    "# Faça referência ao objeto \"TabelaScripts\" e adicione o script abaixo:\n",
    "\n",
    "-------------------------------------------------------------------------------------\n",
    "   df_python = dataset.groupby([\"Código Curso\"]).mean().reset_index()\n",
    "-------------------------------------------------------------------------------------\n"
   ]
  },
  {
   "cell_type": "code",
   "execution_count": null,
   "id": "ba323b37",
   "metadata": {},
   "outputs": [],
   "source": [
    "#O código M após a inserção do Script pode ficar da seguinte forma:\n",
    "\n",
    "---------------------------------------------------------------------------------------------------------------------\n",
    "let\n",
    "    Fonte = TableScripts,\n",
    "    Script_Python = Python.Execute(\n",
    "        \"df_python = dataset.groupby([\"\"Código Curso\"\"]).mean().reset_index()\",[dataset=Fonte]\n",
    "    ),\n",
    "    df_python = Script_Python{[Name=\"df_python\"]}[Value]\n",
    "in\n",
    "    df_python\n",
    "---------------------------------------------------------------------------------------------------------------------\n",
    "\n"
   ]
  },
  {
   "cell_type": "markdown",
   "id": "6f139ab1",
   "metadata": {},
   "source": [
    "### Exemplo de Script R"
   ]
  },
  {
   "cell_type": "code",
   "execution_count": null,
   "id": "3fa424db",
   "metadata": {},
   "outputs": [],
   "source": [
    "# Faça referência ao objeto \"TabelaScripts\" e adicione o script abaixo:\n",
    "-------------------------------------------------------------------------------------\n",
    "df_R <- aggregate(dataset$\"Matrículas\", by=list(dataset$\"Código Curso\"), FUN=mean)\n",
    "-------------------------------------------------------------------------------------\n"
   ]
  },
  {
   "cell_type": "code",
   "execution_count": null,
   "id": "ddcf0c53",
   "metadata": {},
   "outputs": [],
   "source": [
    "#O código M após inserção do Script R ficará da seguinte forma:\n",
    "\n",
    "---------------------------------------------------------------------------------------------------------------------\n",
    "let\n",
    "    Fonte = TableScripts,\n",
    "    Script_R = R.Execute(\n",
    "        \"df_R <- aggregate(dataset$\"\"Matrículas\"\", by=list(dataset$\"\"Código Curso\"\"), FUN=mean)\",[dataset=Fonte]\n",
    "    ),\n",
    "    df_R = Script_R{[Name=\"df_R\"]}[Value]\n",
    "in\n",
    "    df_R\n",
    "---------------------------------------------------------------------------------------------------------------------\n"
   ]
  }
 ],
 "metadata": {
  "kernelspec": {
   "display_name": "Python 3",
   "language": "python",
   "name": "python3"
  },
  "language_info": {
   "codemirror_mode": {
    "name": "ipython",
    "version": 3
   },
   "file_extension": ".py",
   "mimetype": "text/x-python",
   "name": "python",
   "nbconvert_exporter": "python",
   "pygments_lexer": "ipython3",
   "version": "3.8.8"
  }
 },
 "nbformat": 4,
 "nbformat_minor": 5
}
