{
 "cells": [
  {
   "cell_type": "markdown",
   "metadata": {
    "id": "xz5Qv3nKS-ki"
   },
   "source": [
    "## @yullano90 | Tabelas Calendário M vs DAX:"
   ]
  },
  {
   "cell_type": "markdown",
   "metadata": {},
   "source": [
    "## Calendário com DAX"
   ]
  },
  {
   "cell_type": "code",
   "execution_count": null,
   "metadata": {},
   "outputs": [],
   "source": [
    "dCalenarioDAX = \n",
    "  ADDCOLUMNS(\n",
    "    CALENDARAUTO(),  //A Calendarauto()já passa a ser o parâmetro da função.\n",
    "        \"Ano\",FORMAT([Date],\"yyyy\"),\n",
    "        \"Mês Nome\",FORMAT([Date],\"mmmm\"),\n",
    "        \"Mês Num\",MONTH([Date]),\n",
    "        \"Trimestre\",FORMAT([Date],\"q\"),\n",
    "        \"Ano Mês\",CONCATENATE(YEAR([Date]),FORMAT(MONTH([Date]),\"00\")),\n",
    "        \"Dia da Semana Ano\",WEEKDAY([Date])\n",
    ")"
   ]
  },
  {
   "cell_type": "markdown",
   "metadata": {},
   "source": [
    "## Calendário com M"
   ]
  },
  {
   "cell_type": "code",
   "execution_count": null,
   "metadata": {
    "id": "37YCH75CS-kj"
   },
   "outputs": [],
   "source": [
    "#Primeiramente criamos o parâmetro Ano=2018:\n",
    "\n",
    "2018 meta [IsParameterQuery=true, Type=\"Any\", IsParameterQueryRequired=true]"
   ]
  },
  {
   "cell_type": "code",
   "execution_count": null,
   "metadata": {
    "id": "-JN1KoSkS-kl"
   },
   "outputs": [],
   "source": [
    "#Em seguida, considerando o argumento \"AnoParametro\" para setar o start da Tabela Calendário,\n",
    "#temos essa tabela completa que costumo usar, retornando os anos seguintes na função 'ListaDatas':\n",
    "    \n",
    "let\n",
    "\n",
    "Fonte = #date(AnoParâmetro, 1, 1),\n",
    "ListaDatas = List.Dates(Fonte,Number.From(DateTime.LocalNow())-Number.From(Fonte),#duration(1,0,0,0)),\n",
    "#\"ConverteTabela\"= Table.FromList(ListaDatas, Splitter.SplitByNothing(), null, null, ExtraValues.Error),\n",
    "\n",
    "// Renomeando e formatando a coluna para Data\n",
    "#\"Renomeia Coluna para Data\" = Table.RenameColumns(ConverteTabela,{{\"Column1\", \"Data\"}}),\n",
    "#\"Formata Coluna como Data\" = Table.TransformColumnTypes(#\"Renomeia Coluna para Data\",{{\"Data\", type date}}),\n",
    "\n",
    "// Dia\n",
    "DiaNum = Table.AddColumn(#\"Formata Coluna como Data\", \"DiaNum\", each Date.Day([Data]), Int64.Type),\n",
    "DiaComZero = Table.AddColumn(DiaNum, \"DiaComZero\", each Text.PadStart(Text.From(Date.Day([Data])),2,\"0\"), type text),\n",
    "DiaNome = Table.AddColumn(DiaComZero, \"DiaNome\", each \"Dia \" & [DiaComZero] , type text),\n",
    "DiaAno = Table.AddColumn(DiaNome, \"DiaAno\", each Date.DayOfYear([Data]), type text),\n",
    "\n",
    "// Mês\n",
    "MesNum = Table.AddColumn(DiaAno, \"MesNum\", each Date.Month([Data]), Int64.Type),\n",
    "MesComZero = Table.AddColumn(MesNum, \"MesComZero\", each Text.PadStart(Text.From(Date.Month([Data])),2,\"0\"), type text),\n",
    "MesNome = Table.AddColumn(MesComZero, \"MesNome\", each Date.MonthName([Data]), type text),\n",
    "MesNomeAbrev = Table.AddColumn(MesNome, \"MesNomeAbrev\", each Date.ToText([Data],\"MMM\"), type text),\n",
    "MesNomeAbrevAno = Table.AddColumn(MesNomeAbrev, \"MesNomeAbrevAno\", each Date.ToText([Data],\"MMM-yyyy\"), type text),\n",
    "MesExtenso = Table.AddColumn(MesNomeAbrevAno, \"Mes Extenso\", each \"Mês \" & [MesComZero]),\n",
    "\n",
    "// Ano\n",
    "Ano = Table.AddColumn(MesExtenso, \"Ano\", each Date.Year([Data])),\n",
    "#\"Ano/Mes\" = Table.AddColumn(Ano, \"Ano/Mes\", each Date.ToText([Data],\"yyyy/MM\"), type text),\n",
    "\n",
    "// Semana\n",
    "DiaSemana = Table.AddColumn(#\"Ano/Mes\", \"DiaSemana\", each Date.DayOfWeek([Data]), type text),\n",
    "DiaSemanaAbrev = Table.AddColumn(DiaSemana, \"DiaSemanaAbrev\", each Date.ToText([Data],\"ddd\"), type text),\n",
    "DiaSemanaNome = Table.AddColumn(DiaSemanaAbrev, \"DiaSemanaNome\", each Date.ToText([Data],\"dddd\"), type text),\n",
    "SemanaAno = Table.AddColumn(DiaSemanaNome, \"SemanaAno\", each Text.PadStart(Text.From(Date.WeekOfYear([Data])),2,\"0\"), type text),\n",
    "#\"Semana, Ano\" = Table.AddColumn(SemanaAno, \"Semana, Ano\", each \"Semana \" & [SemanaAno] & \", \" & Text.From([Ano]), type text),\n",
    "SemanaExtenso = Table.AddColumn(#\"Semana, Ano\", \"SemanaExtenso\", each \"Semana \" & [SemanaAno], type text),\n",
    "SemanaMes = Table.AddColumn(SemanaExtenso, \"SemanaMes\", each Date.WeekOfMonth([Data])),\n",
    "\n",
    "// Bimestre\n",
    "Bimestre = Table.AddColumn(SemanaMes, \"Bimestre\",\n",
    "each if [MesNum] <= 2 then 1\n",
    "else if [MesNum] <= 4 then 2\n",
    "else if [MesNum] <= 6 then 3\n",
    "else if [MesNum] <= 8 then 4\n",
    "else if [MesNum] <= 10 then 5\n",
    "else 6),\n",
    "\n",
    "// Semestre\n",
    "Semestre = Table.AddColumn(Bimestre, \"Semestre\",\n",
    "each if [MesNum] <= 6 then 1\n",
    "else 2),\n",
    "\n",
    "// Trimestre\n",
    "TrimestreNum = Table.AddColumn(Semestre, \"TrimestreNum\", each Date.QuarterOfYear([Data])),\n",
    "TrimestreNom = Table.AddColumn(TrimestreNum, \"TrimestreNom\", each Number.ToText([TrimestreNum]) & \"º\" & \" – Trimestre\", type text),\n",
    "\n",
    "// Data Inicio e Fim mês\n",
    "InicioMes = Table.AddColumn(TrimestreNom, \"InicioMes\", each Date.StartOfMonth([Data])),\n",
    "FimMes = Table.AddColumn(InicioMes, \"FimMes\", each Date.EndOfMonth([Data])),\n",
    "\n",
    "//Calendário Ano\n",
    "#\"Calendario Ano\" = Table.AddColumn(FimMes, \"Calendario Ano\", each \"Calendário \" & Text.From([Ano]), type text),\n",
    "\n",
    "//Final de Semana:\n",
    "FinalSemana = Table.AddColumn(#\"Calendario Ano\", \"FinalSemana\", each if([DiaSemana] = 0 or [DiaSemana] = 6) then \"Sim\" else \"Não\", type text),\n",
    "    Dias_Int_number = Table.TransformColumnTypes(FinalSemana,{{\"DiaAno\", Int64.Type}, {\"DiaSemana\", Int64.Type}}),\n",
    "    #\"Linhas Classificadas\" = Table.Sort(Dias_Int_number,{{\"Data\", Order.Descending}})\n",
    "in\n",
    "    #\"Linhas Classificadas\""
   ]
  }
 ],
 "metadata": {
  "colab": {
   "include_colab_link": true,
   "name": "Resolução da Atividade • Lyon Engenharia.ipynb",
   "provenance": []
  },
  "kernelspec": {
   "display_name": "Python 3",
   "language": "python",
   "name": "python3"
  },
  "language_info": {
   "codemirror_mode": {
    "name": "ipython",
    "version": 3
   },
   "file_extension": ".py",
   "mimetype": "text/x-python",
   "name": "python",
   "nbconvert_exporter": "python",
   "pygments_lexer": "ipython3",
   "version": "3.8.8"
  }
 },
 "nbformat": 4,
 "nbformat_minor": 1
}
