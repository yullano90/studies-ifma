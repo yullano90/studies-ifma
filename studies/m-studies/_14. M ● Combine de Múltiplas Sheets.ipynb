{
 "cells": [
  {
   "cell_type": "markdown",
   "metadata": {
    "id": "xz5Qv3nKS-ki"
   },
   "source": [
    "## @yullano90 | Combine de Múltiplas Sheets distintas"
   ]
  },
  {
   "cell_type": "code",
   "execution_count": null,
   "metadata": {},
   "outputs": [],
   "source": [
    "//Importante ter a cultura de parâmetro para setar diretórios:\n",
    "----------------------------------------------------------------------------------------------------\n",
    "\n",
    "\"LocalHost ou Server\" meta [IsParameterQuery=true, Type=\"Text\", IsParameterQueryRequired=true]\n",
    "\n",
    "----------------------------------------------------------------------------------------------------"
   ]
  },
  {
   "cell_type": "code",
   "execution_count": null,
   "metadata": {},
   "outputs": [],
   "source": [
    "//Relatorio XPTO 001.xlsx (Layout de arquivo Modelo), importante testar mais \"n\" arquivos:\n",
    "----------------------------------------------------------------------------------------------------\n",
    "\n",
    "Alunos\tNota\tCurso\n",
    "Gabriel\t8,75\tPython\n",
    "Yullano\t7,5\tPython\n",
    "\n",
    "----------------------------------------------------------------------------------------------------"
   ]
  },
  {
   "cell_type": "code",
   "execution_count": null,
   "metadata": {},
   "outputs": [],
   "source": [
    "//Consulta para concatenar todas as \"n\" sheets:\n",
    "\n",
    "----------------------------------------------------------------------------------------------------\n",
    "\n",
    "let\n",
    "    DataSource = Folder.Files(Local),\n",
    "\n",
    "    L_Filter = Table.SelectRows(\n",
    "        DataSource, each not Text.Contains([Name], \"_Resultado\")\n",
    "        ),\n",
    "\n",
    "    C_Rmv_1 = Table.SelectColumns(\n",
    "        L_Filter,{\"Name\", \"Folder Path\"}\n",
    "        ),\n",
    "\n",
    "    P_Ext_Plan = Table.AddColumn(\n",
    "        C_Rmv_1, \"Tabelas\", each ExtrairPlanilha([Folder Path]&[Name])\n",
    "        ),\n",
    "\n",
    "    Exp_Tables = Table.ExpandTableColumn(\n",
    "        P_Ext_Plan, \"Tabelas\", {\"Data\", \"Item\"}, {\"Data\", \"Item\"}\n",
    "        ),\n",
    "\n",
    "    L_Filter2 = Table.SelectRows(\n",
    "        Exp_Tables, each [Item] <> \"boletim\"\n",
    "        ),\n",
    "\n",
    "    Exp_Tables2 = Table.ExpandTableColumn(\n",
    "        L_Filter2, \"Data\", \n",
    "        {\"Column1\", \"Column2\", \"Column3\"}, \n",
    "        {\"Column1\", \"Column2\", \"Column3\"}\n",
    "        )\n",
    "in\n",
    "    Exp_Tables2\n",
    "\n",
    "    \n",
    "----------------------------------------------------------------------------------------------------"
   ]
  }
 ],
 "metadata": {
  "colab": {
   "include_colab_link": true,
   "name": "Resolução da Atividade • Lyon Engenharia.ipynb",
   "provenance": []
  },
  "kernelspec": {
   "display_name": "Python 3 (ipykernel)",
   "language": "python",
   "name": "python3"
  },
  "language_info": {
   "codemirror_mode": {
    "name": "ipython",
    "version": 3
   },
   "file_extension": ".py",
   "mimetype": "text/x-python",
   "name": "python",
   "nbconvert_exporter": "python",
   "pygments_lexer": "ipython3",
   "version": "3.9.7"
  }
 },
 "nbformat": 4,
 "nbformat_minor": 1
}
