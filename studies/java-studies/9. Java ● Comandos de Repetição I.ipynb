{
 "cells": [
  {
   "cell_type": "markdown",
   "id": "40926dba",
   "metadata": {},
   "source": [
    "## @yullano90 | Java ● Comandos de Repetição"
   ]
  },
  {
   "cell_type": "code",
   "execution_count": null,
   "id": "ac21c87a",
   "metadata": {},
   "outputs": [],
   "source": [
    "Instituto Federal de Ciência e Tecnologia do Maranhão @IFMA\n",
    "Departamento de Computação\n",
    "Sistemas de Informação\n",
    "Linguagem de Programação II Java\n",
    "Prof. MSc: Jose Flavio Gomes Barros\n",
    "-----------------------------------------------------------------------------"
   ]
  },
  {
   "cell_type": "markdown",
   "id": "4b707edb",
   "metadata": {},
   "source": [
    "## Revisão Básica:"
   ]
  },
  {
   "cell_type": "code",
   "execution_count": null,
   "id": "ad620ec4",
   "metadata": {},
   "outputs": [],
   "source": [
    "# Revisão básica de Estruturas de Repetição com Java:\n",
    "-----------------------------------------------------------------------------\n",
    "package controledefluxos;\n",
    "import java.util.Scanner;\n",
    "\n",
    "public class comandosDeRepeticao {\n",
    "\n",
    "    public static void main(String[] args) {\n",
    "\n",
    "        # Revisão FOR: \n",
    "        int countQ1 = 0;\n",
    "        String msgQ1 = \"Text For\";\n",
    "        for (int controlQ1 = 0; controlQ1 < 5; controlQ1++) {\n",
    "            System.out.println(msgQ1);\n",
    "            countQ1++;\n",
    "        }\n",
    "        System.out.println(countQ1);\n",
    "\n",
    "        # Revisão WHILE:\n",
    "        System.out.println(\"\\n=======\\n\");\n",
    "        String msgQ2 = \"Text While\";\n",
    "        int countQ2 = 0;\n",
    "        while (countQ2 < 5) {\n",
    "            System.out.println(msgQ2);\n",
    "            countQ2++;\n",
    "        }\n",
    "        System.out.println(countQ2);\n",
    "         \n",
    "        \n",
    "        # Limites definidos pelo usuário usando FOR:\n",
    "        # Impressão da contagem de Iterações + Acumulado:\n",
    "        System.out.println(\"\\n=======\\n\");\n",
    "        System.out.println(\"Informe Li e Lf:\");\n",
    "        Scanner x = new Scanner(System.in);\n",
    "        \n",
    "        int n1 = x.nextInt(), n2 = x.nextInt();\n",
    "        int contador = 0, acumulador = 0;\n",
    "        \n",
    "        for (int i = n1; i < n2; i++) {\n",
    "            acumulador = acumulador + i;\n",
    "            contador += 1;\n",
    "        }\n",
    "        System.out.println(\"Acumulado: \" + acumulador);\n",
    "        System.out.println(\"Repetições: \" + contador);\n",
    "\n",
    "        \n",
    "        # Limites definidos pelo usuário usando WHILE:\n",
    "        # Impressão da contagem de Iterações + Acumulado:\n",
    "        System.out.println(\"\\n=======\\n\");\n",
    "        System.out.println(\"Informe Li e Lf:\");\n",
    "        Scanner y = new Scanner(System.in);\n",
    "        \n",
    "        int num1 = y.nextInt(), num2 = y.nextInt();\n",
    "        int contador2 = 0, acumulador2 = 0;\n",
    "        int controle = num1;\n",
    "        \n",
    "        while(controle < num2){\n",
    "            acumulador2 += controle;\n",
    "            controle++;\n",
    "            contador2 += 1;\n",
    "        }\n",
    "        System.out.println(\"Acumulado: \" + acumulador2);\n",
    "        System.out.println(\"Repetições: \" + contador2);            \n",
    "    }\n",
    "}\n",
    "        \n",
    "-----------------------------------------------------------------------------"
   ]
  },
  {
   "cell_type": "code",
   "execution_count": null,
   "id": "937a2202",
   "metadata": {},
   "outputs": [],
   "source": [
    "# Condição de parada = input do usuário < 0:\n",
    "-----------------------------------------------------------------------------\n",
    "        System.out.println(\"\\n=======\\n\");\n",
    "        int number;\n",
    "        do {\n",
    "            System.out.println(\"Informe um número\");\n",
    "            Scanner z = new Scanner(System.in);\n",
    "            number = z.nextInt();\n",
    "        } while (number >= 0);\n",
    "        System.out.println(\"Loop encerrado!\");\n",
    "\n",
    "-----------------------------------------------------------------------------"
   ]
  },
  {
   "cell_type": "code",
   "execution_count": null,
   "id": "11ac3a35",
   "metadata": {},
   "outputs": [],
   "source": [
    "# Maior valor entre inputs do usuário:\n",
    "-----------------------------------------------------------------------------\n",
    "        System.out.println(\"\\n=======\\n\");\n",
    "        int maxValue = 0;\n",
    "        for (int i = 0; i < 5; i++) {\n",
    "            System.out.println(\"Informe um número\");\n",
    "            Scanner w = new Scanner(System.in);\n",
    "            int value = w.nextInt();\n",
    "            if (value > maxValue) {\n",
    "                maxValue = value;\n",
    "            } else {\n",
    "                maxValue = maxValue;\n",
    "            }\n",
    "        }\n",
    "        System.out.println(\"Maior Valor: \" + maxValue);\n",
    "\n",
    "-----------------------------------------------------------------------------"
   ]
  }
 ],
 "metadata": {
  "kernelspec": {
   "display_name": "Python 3",
   "language": "python",
   "name": "python3"
  },
  "language_info": {
   "codemirror_mode": {
    "name": "ipython",
    "version": 3
   },
   "file_extension": ".py",
   "mimetype": "text/x-python",
   "name": "python",
   "nbconvert_exporter": "python",
   "pygments_lexer": "ipython3",
   "version": "3.8.8"
  }
 },
 "nbformat": 4,
 "nbformat_minor": 5
}
