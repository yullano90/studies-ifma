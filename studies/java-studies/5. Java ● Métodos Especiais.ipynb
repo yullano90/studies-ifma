{
 "cells": [
  {
   "cell_type": "markdown",
   "id": "84da0612",
   "metadata": {},
   "source": [
    "## @yullano90 | Métodos Getters, Setters:"
   ]
  },
  {
   "cell_type": "code",
   "execution_count": null,
   "id": "09259b7f",
   "metadata": {},
   "outputs": [],
   "source": [
    "Instituto Federal de Ciência e Tecnologia do Maranhão @IFMA\n",
    "Departamento de Computação\n",
    "Sistemas de Informação\n",
    "Linguagem de Programação II Java\n",
    "Prof. MSc: Jose Flavio Gomes Barros\n",
    "-----------------------------------------------------------------------------"
   ]
  },
  {
   "cell_type": "code",
   "execution_count": null,
   "id": "2d5c0a36",
   "metadata": {},
   "outputs": [],
   "source": [
    "//Continuando com nosso bom e velho exemplo da Caneta temos:\n",
    "//Métodos Acessores (Getters e Setters):\n",
    "--------------------------------------------------------------------\n",
    "\n",
    "package Caneta;\n",
    "\n",
    "//Todo método Getter e Setter é público:\n",
    "public class Atributos {\n",
    "\n",
    "    private String modelo;\n",
    "    public float ponta;\n",
    "\n",
    "    public String getModelo() {\n",
    "        return this.modelo;\n",
    "    }\n",
    "\n",
    "    public void setModelo(String m) {\n",
    "        this.modelo = m;\n",
    "    }\n",
    "\n",
    "    public float getPonta() {\n",
    "        return this.ponta;\n",
    "    }\n",
    "\n",
    "    public void setPonta(float p) {\n",
    "        this.ponta = p;\n",
    "    }\n",
    "\n",
    "    public void status() {\n",
    "        System.out.println(\"\\nUsando \\\"This\\\" temos:\");\n",
    "        System.out.println(\"Modelo: \" + this.modelo);\n",
    "        System.out.println(\"Ponta: \" + this.ponta);\n",
    "    }\n",
    "}\n",
    "        \n",
    "--------------------------------------------------------------------"
   ]
  },
  {
   "cell_type": "code",
   "execution_count": null,
   "id": "396a7eac",
   "metadata": {},
   "outputs": [],
   "source": [
    "//Invocando-os na Main:\n",
    "--------------------------------------------------------------------\n",
    "\n",
    "package Caneta;\n",
    "\n",
    "public class Metodos {\n",
    "\n",
    "    public static void main(String[] args) {\n",
    "        Atributos c1 = new Atributos();\n",
    "        c1.setModelo(\"Bic\");\n",
    "        c1.setPonta(0.5f);\n",
    "        c1.status();\n",
    "\n",
    "//Com atributos private, é necessário usar o \"get\" para acessá-los:\n",
    "        System.out.println(\"\\nUsando \\\"get\\\" temos:\");\n",
    "        System.out.println(\"O Modelo é: \" + c1.getModelo());\n",
    "        System.out.println(\"A ponta é: \" + c1.getPonta());\n",
    "        \n",
    "        c1.status();\n",
    "    }\n",
    "    \n",
    "}   \n",
    "    \n",
    "--------------------------------------------------------------------"
   ]
  },
  {
   "cell_type": "markdown",
   "id": "af5daafd",
   "metadata": {},
   "source": [
    "## @yullano90 | Construtores com e sem parâmetros:"
   ]
  },
  {
   "cell_type": "code",
   "execution_count": null,
   "id": "c59b1cf1",
   "metadata": {},
   "outputs": [],
   "source": [
    "//Declarando os  métodos Construtores (Constructs):\n",
    "--------------------------------------------------------------------\n",
    "\n",
    "package Caneta;\n",
    "\n",
    "//Todo método Getter e Setter é público:\n",
    "public class Atributos {\n",
    "\n",
    "    private String modelo;\n",
    "    private String cor;\n",
    "    public float ponta;\n",
    "    private boolean tampada;\n",
    "\n",
    "    public Atributos() {\n",
    "        //Método Construtor SEM parâmetros:\n",
    "        this.modelo = \"Bic Cristal\";\n",
    "        this.ponta = (float) 0.5;\n",
    "        this.cor = \"Azul\";\n",
    "        this.tampar();\n",
    "    }\n",
    "\n",
    "//        public Atributos(String m, String c, float p) {\n",
    "//        //Método Construtor COM parâmetros:\n",
    "//        this.modelo = m;\n",
    "//        this.cor = c;\n",
    "//        this.setPonta(p   );\n",
    "//        this.tampar();\n",
    "//    }\n",
    "    \n",
    "    \n",
    "--------------------------------------------------------------------"
   ]
  },
  {
   "cell_type": "code",
   "execution_count": null,
   "id": "d0ae160a",
   "metadata": {},
   "outputs": [],
   "source": [
    "//Invocando os métodos Constrtutores:\n",
    "--------------------------------------------------------------------\n",
    "\n",
    "package Caneta;\n",
    "\n",
    "public class Metodos {\n",
    "\n",
    "    public static void main(String[] args) {\n",
    "        //usando construtor simples:\n",
    "        Atributos c2 = new Atributos();\n",
    "        c2.status();\n",
    "\n",
    "        //usando construtor com parâmetros:\n",
    "        //Atributos c2 = new Atributos(\"Faber Castel\",\"vermelho\",0.5f);\n",
    "        //c2.status();        \n",
    "    }\n",
    "}   \n",
    "    \n",
    "--------------------------------------------------------------------"
   ]
  }
 ],
 "metadata": {
  "kernelspec": {
   "display_name": "Python 3",
   "language": "python",
   "name": "python3"
  },
  "language_info": {
   "codemirror_mode": {
    "name": "ipython",
    "version": 3
   },
   "file_extension": ".py",
   "mimetype": "text/x-python",
   "name": "python",
   "nbconvert_exporter": "python",
   "pygments_lexer": "ipython3",
   "version": "3.8.8"
  }
 },
 "nbformat": 4,
 "nbformat_minor": 5
}
