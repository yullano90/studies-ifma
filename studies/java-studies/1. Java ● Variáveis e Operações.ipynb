{
 "cells": [
  {
   "cell_type": "markdown",
   "id": "ccfd2a87",
   "metadata": {},
   "source": [
    "## @yullano90 | Hello World!"
   ]
  },
  {
   "cell_type": "code",
   "execution_count": null,
   "id": "7aab5d81",
   "metadata": {},
   "outputs": [],
   "source": [
    "Instituto Federal de Ciência e Tecnologia do Maranhão @IFMA\n",
    "Departamento de Computação\n",
    "Sistemas de Informação\n",
    "Linguagem de Programação II Java\n",
    "Prof. MSc: Jose Flavio Gomes Barros\n",
    "-----------------------------------------------------------------------------"
   ]
  },
  {
   "cell_type": "code",
   "execution_count": null,
   "id": "ad33e76c",
   "metadata": {},
   "outputs": [],
   "source": [
    "-----------------------------------------------------------------------    \n",
    "\n",
    "package turnosdodia;\n",
    "\n",
    "public class TurnoVespertino{\n",
    "    public static void main(String [] args){\n",
    "        System.out.println(\"Boa tarde Mundo ainn!\");\n",
    "    }\n",
    "}\n",
    "\n",
    "-----------------------------------------------------------------------"
   ]
  },
  {
   "cell_type": "code",
   "execution_count": null,
   "id": "be287067",
   "metadata": {},
   "outputs": [],
   "source": [
    "-----------------------------------------------------------------------\n",
    "\n",
    "package variaveis;\n",
    "\n",
    "public class TiposDeVariaveis{\n",
    "public static void main (String [] args){\n",
    "    \n",
    "    //String:\n",
    "    String msg = \"Eu sou uma string ain\";\n",
    "    System.out.println(msg + \"\\n\");\n",
    "    \n",
    "    //Inteiro e Float:\n",
    "    int x = 1990;\n",
    "    float y = 1.79f;\n",
    "    \n",
    "    //Concatenação:\n",
    "    System.out.println(x + \" e \" + y);\n",
    "    \n",
    "    //Operações:\n",
    "    float  soma = x+y;\n",
    "    int razaointeira = (int)(x/y);\n",
    "    double razaodecimal = x/y;\n",
    "    System.out.println(\"SomaInteira: \"+soma);\n",
    "    System.out.println(\"CastingInt: \"+razaointeira);\n",
    "    System.out.println(\"RazãoDouble: \"+razaodecimal);\n",
    "    }  \n",
    "}\n",
    "\n",
    "-----------------------------------------------------------------------"
   ]
  },
  {
   "cell_type": "code",
   "execution_count": null,
   "id": "a1dbd7ae",
   "metadata": {},
   "outputs": [],
   "source": [
    "-----------------------------------------------------------------------\n",
    "\n",
    "package dadosdowindows;\n",
    "import java.util.Date;\n",
    "\n",
    "public class HoradoWindows {\n",
    "    public static void main(String[] args) {\n",
    "        Date relogio = new Date();\n",
    "        System.out.println(relogio.toString());\n",
    "    } \n",
    "}\n",
    "\n",
    "-----------------------------------------------------------------------"
   ]
  },
  {
   "cell_type": "code",
   "execution_count": null,
   "id": "74450274",
   "metadata": {},
   "outputs": [],
   "source": [
    "-----------------------------------------------------------------------\n",
    "\n",
    "package dadosdowindows;\n",
    "import java.util.*;\n",
    "\n",
    "public class IdiomaDoSO {\n",
    "    public static void main(String[] args) {\n",
    "        //Imprime \"pt\"\n",
    "        System.getProperties();\n",
    "        System.out.println(System.getProperty(\"user.language\"));\n",
    "        \n",
    "        //Imprime \"português\"\n",
    "        Locale loc = Locale.getDefault();\n",
    "        System.out.println (loc.getDisplayLanguage());\n",
    "    }\n",
    "}\n",
    "\n",
    "-----------------------------------------------------------------------"
   ]
  },
  {
   "cell_type": "code",
   "execution_count": null,
   "id": "baf7bc11",
   "metadata": {},
   "outputs": [],
   "source": [
    "-----------------------------------------------------------------------\n",
    "\n",
    "package dadosdowindows;\n",
    "\n",
    "import java.awt.Dimension;\n",
    "import java.awt.Toolkit;\n",
    "\n",
    "public class ResolucaoDaTela {\n",
    "    public static void main(String[] args) {\n",
    "        Dimension screenSize = Toolkit.getDefaultToolkit().getScreenSize();\n",
    "        double width = screenSize.getWidth();\n",
    "        double height = screenSize.getHeight();\n",
    "        System.out.println(width + \" \" + height);\n",
    "    }    \n",
    "}\n",
    "\n",
    "-----------------------------------------------------------------------"
   ]
  }
 ],
 "metadata": {
  "kernelspec": {
   "display_name": "Python 3",
   "language": "python",
   "name": "python3"
  },
  "language_info": {
   "codemirror_mode": {
    "name": "ipython",
    "version": 3
   },
   "file_extension": ".py",
   "mimetype": "text/x-python",
   "name": "python",
   "nbconvert_exporter": "python",
   "pygments_lexer": "ipython3",
   "version": "3.8.8"
  }
 },
 "nbformat": 4,
 "nbformat_minor": 5
}
