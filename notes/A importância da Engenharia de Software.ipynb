{
 "cells": [
  {
   "cell_type": "markdown",
   "id": "35c4f1c6",
   "metadata": {},
   "source": [
    "## @yullano90 ● A importância da Engenharia de Software"
   ]
  },
  {
   "cell_type": "code",
   "execution_count": null,
   "id": "327666bf",
   "metadata": {},
   "outputs": [],
   "source": [
    "Instituto Federal de Ciência e Tecnologia do Maranhão @IFMA\n",
    "Departamento de Computação ● Sistemas de Informação\n",
    "Engenharia de Software\n",
    "Prof. Dr: Daniel Lima Gomes Junior\n",
    "Aluno: Iulano Silva dos Santos\n",
    "\n",
    "---------------------------------------------------------------------------------------------"
   ]
  },
  {
   "cell_type": "markdown",
   "id": "6a7a5a54",
   "metadata": {},
   "source": [
    "##  Qualidade de Software: O segredo dos bons desenvolvedores"
   ]
  },
  {
   "cell_type": "code",
   "execution_count": null,
   "id": "69bccb78",
   "metadata": {},
   "outputs": [],
   "source": [
    "---------------------------------------------------------------------------------------------\n",
    "\n",
    "    Na sociedade atual, o Desenvolvimento de Software tem se destacado muito como produto, \n",
    "e isso é consequência do uso exponencial de computadores pessoais e alta demanda para \n",
    "automatização de processos. Por conseguinte, a preocupação com sua qualidade se torna vital.\n",
    "A Engenharia de Software surge a partir, exatamente dessa preocupação com qualidade.\n",
    "Ela provoca a necessidade de melhorar o desenvolvimento de um Software, refletindo no \n",
    "aumento da produtividade no ciclo de fabricação desse software, e isso tudo exige técnicas e \n",
    "práticas para desenvolvimento de diferentes produtos (Web, Mobile, etc). Exige considerar o \n",
    "problema de negócio, necessidades do cliente e recursos disponíveis sempre visando softwares \n",
    "mais confiáveis, de melhor qualidade, custo reduzido e alta produtividade;\n",
    "\n",
    "    Segundo Falbo(2005), o Processo de Software se classifica em atividades, vide abaixo:\n",
    "● Atividades de Desenvolvimento: Especificacão, Análise de Requisitos, Projeto e Implementação.\n",
    "● Atividades de Gerência: Planejamento, Estimativas, Cronograma, Análise de Riscos e etc.\n",
    "● Atividades de Garantia da Qualidade: Revisões e Inspeções de qualidade intermediárias e finais.\n",
    "O processo de software é definido, por Macorati.net, como: [...] Um conjunto de atividades \n",
    "uniformizadas a serem aplicadas sistematicamente que se encontram agrupadas em fases, cada uma \n",
    "das quais com seus intervenientes com responsabilidades, que possui diversas entradas e saídas[...].\n",
    "\n",
    "    Segundo Schwartz (1975), essas fases acima citadas, tem suas definições, vide abaixo:\n",
    "● Especificação de Requisitos: Tradução da necessidade ou requisito operacional para uma \n",
    "descrição da funcionalidade a ser executada;\n",
    "● Projeto de Sistema: Tradução desses requisitos em uma descrição de todos os componentes \n",
    "necessários para codificar o sistema;    \n",
    "● Programação: Produção do código que controla o sistema e realiza a computação e lógica envolvida.\n",
    "● Verificação e Integração: Chegagem da Satisfação dos requisitos iniciais do produto produzido.\n",
    "● Modelo de Ciclo de Vida: É o start pra definição de um modelo de processo de software.\n",
    "\n",
    "    Segundo Pressman(1997), em cada uma das fases acima, são executadas atividades básicas, e estas \n",
    "formam um conjunto mínimo para se obter um produto de software, vide abaixo:\n",
    "● Engenharia de Sistema, Especificação do Sistema, Projeto Arquitetural, Projeto de Interface;\n",
    "● Codificação, Testes, Integração, Manutenção e Evolução. Modelos de Desenvolvimento de \n",
    "Software são adotados conforme o problema de negócio é enfrentado. Esses modelos vão desde prototipagem \n",
    "simples, até modelos sequenciais, cíclicos e incrementais. Tudo depende do problema de negócio e das \n",
    "variáveis que aparecem ao longo do ciclo de vida do produto (software).\n",
    "\n",
    "    Podemos concluir que o advento da globalização acelerada, alta necessidade de automatizar \n",
    "processos e exponencial número de usuários de computadores, celulares, wearebles e todo tipo de \n",
    "máquina que o ser humano interaja, provoca nos desenvolvedores a necessidade constante de buscar \n",
    "cada vez mais qualidade na construção de soluções que satisfaçam clientes e usuários, dentro de \n",
    "prazos e custos previsíveis.\n",
    "\n",
    "---------------------------------------------------------------------------------------------"
   ]
  },
  {
   "cell_type": "markdown",
   "id": "460249a5",
   "metadata": {},
   "source": [
    "## Referências Bibliográficas"
   ]
  },
  {
   "cell_type": "code",
   "execution_count": null,
   "id": "95884eb1",
   "metadata": {},
   "outputs": [],
   "source": [
    "-------------------------------------------------------------------------------------------------------------------\n",
    "Falbo, Ricardo de Almeida. (2005) “Engenharia de Software - Notas de Aula”, Universidade Federal do Espírito Santo,\n",
    "http://www.inf.ufes.br/~falbo/download/aulas/es-g/2005-1/NotasDeAula.pdf. Acessado em: 07/04/2022\n",
    "-------------------------------------------------------------------------------------------------------------------\n",
    "PRESSMAN, R. S. , Software engineering: A practitioner's approach. 4th. ed. McGraw Hill, 1997. p. 22-53.\n",
    "-------------------------------------------------------------------------------------------------------------------\n",
    "SCHWARTZ, J. I. ,Construction of software. In: Practical Strategies for Developing Large Systems.\n",
    "-------------------------------------------------------------------------------------------------------------------\n",
    "Menlo Park: Addison-Wesley, 1st. ed., 1975. Macoratti.net “O processo de Software”, \n",
    "http://www.macoratti.net/proc sw1.htm, Acessado em: 07/04/2022. \n",
    "-------------------------------------------------------------------------------------------------------------------"
   ]
  }
 ],
 "metadata": {
  "kernelspec": {
   "display_name": "Python 3 (ipykernel)",
   "language": "python",
   "name": "python3"
  },
  "language_info": {
   "codemirror_mode": {
    "name": "ipython",
    "version": 3
   },
   "file_extension": ".py",
   "mimetype": "text/x-python",
   "name": "python",
   "nbconvert_exporter": "python",
   "pygments_lexer": "ipython3",
   "version": "3.9.7"
  }
 },
 "nbformat": 4,
 "nbformat_minor": 5
}
